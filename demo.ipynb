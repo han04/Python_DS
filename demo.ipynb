from matplotlib import pyplot as plt
import numpy as np


X=np.linspace(-6, 6, 1201)
x=16*(np.sin(X))**3
y= 13*np.cos(X)-5*np.cos(2*X)-2*np.cos(3*X)-np.cos(4*X)

plt.plot(x,y,color='pink')
plt.xlim(-22,22)
plt.show()
